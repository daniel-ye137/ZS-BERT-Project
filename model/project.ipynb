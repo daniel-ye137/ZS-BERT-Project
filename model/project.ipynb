{
 "cells": [
  {
   "cell_type": "code",
   "execution_count": 4,
   "metadata": {},
   "outputs": [
    {
     "name": "stdout",
     "output_type": "stream",
     "text": [
      "there are 70 kinds of relation in train.\n",
      "there are 10 kinds of relation in test.\n",
      "number of union of train and test: 0\n",
      "49000\n",
      "7000\n",
      "device: cuda:0\n",
      "embs: 80\n",
      "49000\n",
      "(10, 1024)\n",
      "(7000,)\n",
      "============== TRAIN ON THE 1-th EPOCH ==============\n"
     ]
    },
    {
     "name": "stderr",
     "output_type": "stream",
     "text": [
      "Traceback (most recent call last):\n",
      "  File \"train_fewrel.py\", line 153, in <module>\n",
      "    outputs, out_relation_emb = model(input_ids=tokens_tensors,\n",
      "  File \"c:\\Users\\showg\\Documents\\NLMatics\\nlm-ingestor-v2\\nlm-env\\lib\\site-packages\\torch\\nn\\modules\\module.py\", line 722, in _call_impl\n",
      "    result = self.forward(*input, **kwargs)\n",
      "  File \"c:\\Users\\showg\\Documents\\GitHub\\ZS-BERT-Project\\model\\model.py\", line 89, in forward\n",
      "    if tmp > max_val:\n",
      "UnboundLocalError: local variable 'tmp' referenced before assignment\n"
     ]
    }
   ],
   "source": [
    "!python train_fewrel.py --seed 300 --n_unseen 10 --gamma 7.5 --alpha 0.4 --dist_func 'inner' --batch_size 4 --epochs 10"
   ]
  },
  {
   "cell_type": "code",
   "execution_count": 12,
   "metadata": {},
   "outputs": [
    {
     "name": "stdout",
     "output_type": "stream",
     "text": [
      "Loaded data size: 93483\n",
      "train size: 84770, test size: 8713\n",
      "there are 103 kinds of relation in train.\n",
      "there are 10 kinds of relation in test.\n",
      "number of union of train and test: 0\n",
      "84770\n",
      "8713\n",
      "device: cuda:0\n",
      "../data/wiki_train_new.json\n",
      "{'P136', 'P366', 'P276', 'P1408', 'P40', 'P186', 'P1435', 'P991', 'P802', 'P264', 'P461', 'P1269', 'P569', 'P140', 'P59', 'P27', 'P1056', 'P121', 'P144', 'P400', 'P279', 'P463', 'P676', 'P131', 'P641', 'P1365', 'P179', 'P840', 'P36', 'P607', 'P735', 'P460', 'P495', 'P54', 'P86', 'P175', 'P69', 'P466', 'P1412', 'P178', 'P106', 'P26', 'P150', 'P22', 'P2389', 'P360', 'P135', 'P937', 'P30', 'P112', 'P403', 'P31', 'P170', 'P570', 'P376', 'P706', 'P2416', 'P25', 'P159', 'P118', 'P81', 'P47', 'P1589', 'P127', 'P101', 'P123', 'P1080', 'P161', 'P166', 'P647', 'P921', 'P155', 'P176', 'P241', 'P355', 'P58', 'P50', 'P737', 'P449', 'P108', 'P138', 'P412', 'P571', 'P364', 'P190', 'P1552', 'P1889', 'P57', 'P674', 'P37', 'P102', 'P17', 'P551', 'P162', 'P53', 'P1344', 'P19', 'P734', 'P1303', 'P1346', 'P530', 'P577', 'P397'}\n",
      "(103, 1024)\n",
      "(10, 1024)\n",
      "(8713,)\n",
      "============== TRAIN ON THE 1-th EPOCH ==============\n"
     ]
    },
    {
     "name": "stderr",
     "output_type": "stream",
     "text": [
      "Traceback (most recent call last):\n",
      "  File \"train_wiki.py\", line 131, in <module>\n",
      "    outputs, out_relation_emb = model(input_ids=tokens_tensors,\n",
      "  File \"c:\\Users\\showg\\Documents\\NLMatics\\nlm-ingestor-v2\\nlm-env\\lib\\site-packages\\torch\\nn\\modules\\module.py\", line 722, in _call_impl\n",
      "    result = self.forward(*input, **kwargs)\n",
      "  File \"c:\\Users\\showg\\Documents\\GitHub\\ZS-BERT-Project\\model\\model.py\", line 89, in forward\n",
      "    if tmp > max_val:\n",
      "UnboundLocalError: local variable 'tmp' referenced before assignment\n"
     ]
    }
   ],
   "source": [
    "!python train_wiki.py --seed 300 --n_unseen 10 --gamma 7.5 --alpha 0.4 --dist_func 'inner' --batch_size 4 --epochs 10"
   ]
  }
 ],
 "metadata": {
  "interpreter": {
   "hash": "c476a049fcde5b81fb6a21b43e92761893545c8074c102fba35e987c688513e7"
  },
  "kernelspec": {
   "display_name": "",
   "language": "python",
   "name": "python3"
  },
  "language_info": {
   "codemirror_mode": {
    "name": "ipython",
    "version": 3
   },
   "file_extension": ".py",
   "mimetype": "text/x-python",
   "name": "python",
   "nbconvert_exporter": "python",
   "pygments_lexer": "ipython3",
   "version": "3.8.5"
  },
  "orig_nbformat": 4
 },
 "nbformat": 4,
 "nbformat_minor": 2
}
