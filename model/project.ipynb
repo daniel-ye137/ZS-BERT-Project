{
 "cells": [
  {
   "cell_type": "code",
   "execution_count": 8,
   "metadata": {},
   "outputs": [
    {
     "name": "stdout",
     "output_type": "stream",
     "text": [
      "there are 70 kinds of relation in train."
     ]
    },
    {
     "name": "stderr",
     "output_type": "stream",
     "text": [
      "Traceback (most recent call last):\n",
      "  File \"train_fewrel.py\", line 139, in <module>\n",
      "    outputs, out_relation_emb = model(input_ids=tokens_tensors,\n",
      "  File \"c:\\Users\\showg\\Documents\\NLMatics\\nlm-ingestor-v2\\nlm-env\\lib\\site-packages\\torch\\nn\\modules\\module.py\", line 722, in _call_impl\n",
      "    result = self.forward(*input, **kwargs)\n",
      "  File \"c:\\Users\\showg\\Documents\\GitHub\\ZS-BERT-Project\\model\\model.py\", line 89, in forward\n",
      "    if tmp > max_val:\n",
      "UnboundLocalError: local variable 'tmp' referenced before assignment\n"
     ]
    },
    {
     "name": "stdout",
     "output_type": "stream",
     "text": [
      "\n",
      "there are 10 kinds of relation in test.\n",
      "number of union of train and test: 0\n",
      "49000\n",
      "7000\n",
      "device: cuda:0\n",
      "{'P1346', 'P155', 'P39', 'P364', 'P412', 'P1435', 'P1344', 'P127', 'P527', 'P921', 'P3373', 'P276', 'P1408', 'P156', 'P1411', 'P1303', 'P58', 'P118', 'P26', 'P6', 'P466', 'P1923', 'P177', 'P131', 'P449', 'P937', 'P123', 'P140', 'P22', 'P102', 'P2094', 'P495', 'P86', 'P84', 'P3450', 'P974', 'P551', 'P105', 'P410', 'P31', 'P706', 'P206', 'P4552', 'P460', 'P101', 'P175', 'P17', 'P991', 'P403', 'P40', 'P1001', 'P1877', 'P674', 'P106', 'P135', 'P150', 'P59', 'P407', 'P57', 'P413', 'P137', 'P264', 'P641', 'P740', 'P355', 'P400', 'P176', 'P27', 'P159', 'P710'}\n",
      "49000\n",
      "(10, 1024)\n",
      "(7000,)\n",
      "============== TRAIN ON THE 1-th EPOCH ==============\n"
     ]
    }
   ],
   "source": [
    "!python train_fewrel.py --seed 300 --n_unseen 10 --gamma 7.5 --alpha 0.4 --dist_func 'inner' --batch_size 4 --epochs 10"
   ]
  },
  {
   "cell_type": "code",
   "execution_count": null,
   "metadata": {},
   "outputs": [],
   "source": []
  }
 ],
 "metadata": {
  "interpreter": {
   "hash": "c476a049fcde5b81fb6a21b43e92761893545c8074c102fba35e987c688513e7"
  },
  "kernelspec": {
   "display_name": "",
   "language": "python",
   "name": "python3"
  },
  "language_info": {
   "codemirror_mode": {
    "name": "ipython",
    "version": 3
   },
   "file_extension": ".py",
   "mimetype": "text/x-python",
   "name": "python",
   "nbconvert_exporter": "python",
   "pygments_lexer": "ipython3",
   "version": "3.8.5"
  },
  "orig_nbformat": 4
 },
 "nbformat": 4,
 "nbformat_minor": 2
}
