{
 "cells": [
  {
   "cell_type": "code",
   "execution_count": 18,
   "metadata": {},
   "outputs": [],
   "source": [
    "import numpy as np\n",
    "from sklearn.decomposition import PCA\n",
    "\n",
    "few_rel_embs = np.loadtxt('./model/embs_few_rel.txt')"
   ]
  },
  {
   "cell_type": "code",
   "execution_count": 19,
   "metadata": {},
   "outputs": [
    {
     "name": "stdout",
     "output_type": "stream",
     "text": [
      "[-0.33062553 -0.24321588  0.16040381 ... -0.00837971 -0.56488552\n",
      " -0.1657729 ]\n"
     ]
    }
   ],
   "source": [
    "avg_emb = (wiki_embs.mean(axis=0))\n",
    "print(avg_emb)\n",
    "for i in range(len(few_rel_embs)):\n",
    "  few_rel_embs[i] -= avg_emb"
   ]
  },
  {
   "cell_type": "code",
   "execution_count": 22,
   "metadata": {},
   "outputs": [
    {
     "name": "stdout",
     "output_type": "stream",
     "text": [
      "1024\n"
     ]
    }
   ],
   "source": [
    "assert abs(few_rel_embs.mean()) <= 1e-10\n",
    "dimension = few_rel_embs.shape[1]\n",
    "print(dimension)"
   ]
  },
  {
   "cell_type": "code",
   "execution_count": 23,
   "metadata": {},
   "outputs": [],
   "source": [
    "pca = PCA()\n",
    "pca.fit(few_rel_embs)\n",
    "\n",
    "#remove the top N components from each vector\n",
    "for i in range(len(few_rel_embs)):\n",
    "    preprocess_sum = [0] * dimension\n",
    "    for j in range(2):\n",
    "        princip = np.array(pca.components_[j])\n",
    "        preprocess = princip.dot(few_rel_embs[i])\n",
    "        preprocess_vec = [princip[k] * preprocess for k in range(len(princip))]\n",
    "        preprocess_sum = [preprocess_sum[k] + preprocess_vec[k] for k in range(len(preprocess_sum))]\n",
    "    few_rel_embs[i] = np.array([few_rel_embs[i][j] - preprocess_sum[j] for j in range(len(preprocess_sum))])"
   ]
  },
  {
   "cell_type": "code",
   "execution_count": 25,
   "metadata": {},
   "outputs": [
    {
     "name": "stdout",
     "output_type": "stream",
     "text": [
      "[[ 0.12929082  0.18898746 -0.19969596 ...  0.02886066 -0.23365819\n",
      "  -0.00412334]\n",
      " [-0.37010029  0.18958247 -0.08657138 ... -0.15374777  0.05288432\n",
      "   0.13726444]\n",
      " [-0.18624892  0.56459495  0.25930635 ...  0.17178974 -0.14809304\n",
      "   0.13510923]\n",
      " ...\n",
      " [ 0.30730326  0.20381021 -0.26396625 ... -0.3169629   0.33519973\n",
      "   0.02226931]\n",
      " [ 0.03622832  0.26204958  0.88732923 ... -0.25194789 -0.44317495\n",
      "  -0.16646904]\n",
      " [-0.20107807  0.37238275  0.07296249 ...  0.21431556  0.41701434\n",
      "   0.17974977]]\n"
     ]
    }
   ],
   "source": [
    "print(few_rel_embs)\n",
    "np.savetxt('embs_few_rel_processed.txt', few_rel_embs)"
   ]
  },
  {
   "cell_type": "code",
   "execution_count": 27,
   "metadata": {},
   "outputs": [
    {
     "name": "stdout",
     "output_type": "stream",
     "text": [
      "[-3.56883677e-01 -2.45801337e-01  1.82801988e-01 ... -4.54146242e-04\n",
      " -5.82559419e-01 -1.85000035e-01]\n",
      "1024\n",
      "[[ 0.15872046 -0.20557678  0.32109804 ... -0.35096709  0.07979304\n",
      "   0.20636747]\n",
      " [ 0.10223511  0.00149919 -0.11349143 ... -0.8478035  -0.05190541\n",
      "   0.35751708]\n",
      " [-0.19375651  0.07167717 -0.22363986 ... -0.12620823  0.10703181\n",
      "   0.38395395]\n",
      " ...\n",
      " [ 0.45688216  0.32163365 -0.02645512 ...  0.05084752  0.040448\n",
      "  -0.1905116 ]\n",
      " [ 0.10556229 -0.63197153 -0.50534945 ...  0.00304864 -0.59740592\n",
      "  -0.02477873]\n",
      " [-0.12575307 -0.12438036  0.47246093 ...  0.02592334 -0.0795669\n",
      "  -0.28657116]]\n"
     ]
    }
   ],
   "source": [
    "wiki_embs = np.loadtxt('./model/wiki_embs.txt')\n",
    "avg_emb = (wiki_embs.mean(axis=0))\n",
    "print(avg_emb)\n",
    "for i in range(len(wiki_embs)):\n",
    "  wiki_embs[i] -= avg_emb\n",
    "assert abs(wiki_embs.mean()) <= 1e-10\n",
    "dimension = wiki_embs.shape[1]\n",
    "print(dimension)\n",
    "pca = PCA()\n",
    "pca.fit(wiki_embs)\n",
    "\n",
    "#remove the top N components from each vector\n",
    "for i in range(len(wiki_embs)):\n",
    "    preprocess_sum = [0] * dimension\n",
    "    for j in range(2):\n",
    "        princip = np.array(pca.components_[j])\n",
    "        preprocess = princip.dot(wiki_embs[i])\n",
    "        preprocess_vec = [princip[k] * preprocess for k in range(len(princip))]\n",
    "        preprocess_sum = [preprocess_sum[k] + preprocess_vec[k] for k in range(len(preprocess_sum))]\n",
    "    wiki_embs[i] = np.array([wiki_embs[i][j] - preprocess_sum[j] for j in range(len(preprocess_sum))])\n",
    "print(wiki_embs)\n",
    "np.savetxt('embs_wiki_processed.txt', wiki_embs)"
   ]
  }
 ],
 "metadata": {
  "interpreter": {
   "hash": "c476a049fcde5b81fb6a21b43e92761893545c8074c102fba35e987c688513e7"
  },
  "kernelspec": {
   "display_name": "",
   "language": "python",
   "name": "python3"
  },
  "language_info": {
   "codemirror_mode": {
    "name": "ipython",
    "version": 3
   },
   "file_extension": ".py",
   "mimetype": "text/x-python",
   "name": "python",
   "nbconvert_exporter": "python",
   "pygments_lexer": "ipython3",
   "version": "3.8.5"
  },
  "orig_nbformat": 4
 },
 "nbformat": 4,
 "nbformat_minor": 2
}
