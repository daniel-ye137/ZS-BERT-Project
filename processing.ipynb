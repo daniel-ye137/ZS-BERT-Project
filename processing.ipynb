{
 "cells": [
  {
   "cell_type": "code",
   "execution_count": 1,
   "metadata": {},
   "outputs": [],
   "source": [
    "import numpy as np\n",
    "from sklearn.decomposition import PCA\n",
    "\n",
    "few_rel_embs = np.loadtxt('./model/embs_few_rel.txt')"
   ]
  },
  {
   "cell_type": "code",
   "execution_count": 2,
   "metadata": {},
   "outputs": [
    {
     "name": "stdout",
     "output_type": "stream",
     "text": [
      "[-0.33062553 -0.24321588  0.16040381 ... -0.00837971 -0.56488552\n",
      " -0.1657729 ]\n"
     ]
    }
   ],
   "source": [
    "avg_emb = (few_rel_embs.mean(axis=0))\n",
    "print(avg_emb)\n",
    "for i in range(len(few_rel_embs)):\n",
    "  few_rel_embs[i] -= avg_emb"
   ]
  },
  {
   "cell_type": "code",
   "execution_count": 3,
   "metadata": {},
   "outputs": [
    {
     "name": "stdout",
     "output_type": "stream",
     "text": [
      "1024\n"
     ]
    }
   ],
   "source": [
    "assert abs(few_rel_embs.mean()) <= 1e-10\n",
    "dimension = few_rel_embs.shape[1]\n",
    "print(dimension)"
   ]
  },
  {
   "cell_type": "code",
   "execution_count": 4,
   "metadata": {},
   "outputs": [],
   "source": [
    "pca = PCA()\n",
    "pca.fit(few_rel_embs)\n",
    "\n",
    "#remove the top N components from each vector\n",
    "for i in range(len(few_rel_embs)):\n",
    "    preprocess_sum = [0] * dimension\n",
    "    for j in range(1):\n",
    "        princip = np.array(pca.components_[j])\n",
    "        preprocess = princip.dot(few_rel_embs[i])\n",
    "        preprocess_vec = [princip[k] * preprocess for k in range(len(princip))]\n",
    "        preprocess_sum = [preprocess_sum[k] + preprocess_vec[k] for k in range(len(preprocess_sum))]\n",
    "    few_rel_embs[i] = np.array([few_rel_embs[i][j] - preprocess_sum[j] for j in range(len(preprocess_sum))])"
   ]
  },
  {
   "cell_type": "code",
   "execution_count": 5,
   "metadata": {},
   "outputs": [
    {
     "name": "stdout",
     "output_type": "stream",
     "text": [
      "[[ 0.13970774  0.19705556 -0.19001845 ...  0.05361567 -0.25931477\n",
      "  -0.01488209]\n",
      " [-0.2521751   0.28091777  0.02298333 ...  0.12649241 -0.23756216\n",
      "   0.01546958]\n",
      " [-0.2687805   0.50067268  0.18263297 ... -0.02434023  0.05517994\n",
      "   0.22034904]\n",
      " ...\n",
      " [ 0.22145074  0.13731581 -0.34372485 ... -0.52098484  0.5466521\n",
      "   0.11093904]\n",
      " [ 0.00328672  0.23653569  0.85672586 ... -0.33023109 -0.36204069\n",
      "  -0.13244646]\n",
      " [-0.18332283  0.38613452  0.08945744 ...  0.25650954  0.37328366\n",
      "   0.16141189]]\n"
     ]
    }
   ],
   "source": [
    "print(few_rel_embs)\n",
    "np.savetxt('embs_few_rel_processed_N_1.txt', few_rel_embs)"
   ]
  },
  {
   "cell_type": "code",
   "execution_count": 6,
   "metadata": {},
   "outputs": [
    {
     "name": "stdout",
     "output_type": "stream",
     "text": [
      "[-3.56883677e-01 -2.45801337e-01  1.82801988e-01 ... -4.54146242e-04\n",
      " -5.82559419e-01 -1.85000035e-01]\n",
      "1024\n",
      "[[ 0.24758449 -0.38402523  0.31153272 ... -0.23573363  0.00233799\n",
      "   0.07522526]\n",
      " [ 0.03598838  0.13452967 -0.10636063 ... -0.93370821  0.0058361\n",
      "   0.45528152]\n",
      " [-0.18665357  0.05741371 -0.22440442 ... -0.11699757  0.10084079\n",
      "   0.37347169]\n",
      " ...\n",
      " [ 0.4892641   0.25660726 -0.02994071 ...  0.09283845  0.01222348\n",
      "  -0.23829966]\n",
      " [ 0.14166075 -0.70446108 -0.50923509 ...  0.04985892 -0.6288698\n",
      "  -0.07805148]\n",
      " [-0.20219264  0.02911844  0.48068888 ... -0.07319884 -0.01294118\n",
      "  -0.17376451]]\n"
     ]
    }
   ],
   "source": [
    "wiki_embs = np.loadtxt('./model/wiki_embs.txt')\n",
    "avg_emb = (wiki_embs.mean(axis=0))\n",
    "print(avg_emb)\n",
    "for i in range(len(wiki_embs)):\n",
    "  wiki_embs[i] -= avg_emb\n",
    "assert abs(wiki_embs.mean()) <= 1e-10\n",
    "dimension = wiki_embs.shape[1]\n",
    "print(dimension)\n",
    "pca = PCA()\n",
    "pca.fit(wiki_embs)\n",
    "\n",
    "#remove the top N components from each vector\n",
    "for i in range(len(wiki_embs)):\n",
    "    preprocess_sum = [0] * dimension\n",
    "    for j in range(1):\n",
    "        princip = np.array(pca.components_[j])\n",
    "        preprocess = princip.dot(wiki_embs[i])\n",
    "        preprocess_vec = [princip[k] * preprocess for k in range(len(princip))]\n",
    "        preprocess_sum = [preprocess_sum[k] + preprocess_vec[k] for k in range(len(preprocess_sum))]\n",
    "    wiki_embs[i] = np.array([wiki_embs[i][j] - preprocess_sum[j] for j in range(len(preprocess_sum))])\n",
    "print(wiki_embs)\n",
    "np.savetxt('embs_wiki_processed_N_1.txt', wiki_embs)"
   ]
  }
 ],
 "metadata": {
  "interpreter": {
   "hash": "c476a049fcde5b81fb6a21b43e92761893545c8074c102fba35e987c688513e7"
  },
  "kernelspec": {
   "display_name": "",
   "language": "python",
   "name": "python3"
  },
  "language_info": {
   "codemirror_mode": {
    "name": "ipython",
    "version": 3
   },
   "file_extension": ".py",
   "mimetype": "text/x-python",
   "name": "python",
   "nbconvert_exporter": "python",
   "pygments_lexer": "ipython3",
   "version": "3.8.5"
  },
  "orig_nbformat": 4
 },
 "nbformat": 4,
 "nbformat_minor": 2
}
