{
 "cells": [
  {
   "cell_type": "code",
   "execution_count": 18,
   "metadata": {},
   "outputs": [],
   "source": [
    "import numpy as np\n",
    "from sklearn.decomposition import PCA\n",
    "\n",
    "few_rel_embs = np.loadtxt('./model/embs_few_rel.txt')"
   ]
  },
  {
   "cell_type": "code",
   "execution_count": 19,
   "metadata": {},
   "outputs": [
    {
     "name": "stdout",
     "output_type": "stream",
     "text": [
      "[-0.33062553 -0.24321588  0.16040381 ... -0.00837971 -0.56488552\n",
      " -0.1657729 ]\n"
     ]
    }
   ],
   "source": [
    "avg_emb = (few_rel_embs.mean(axis=0))\n",
    "print(avg_emb)\n",
    "for i in range(len(few_rel_embs)):\n",
    "  few_rel_embs[i] -= avg_emb"
   ]
  },
  {
   "cell_type": "code",
   "execution_count": 22,
   "metadata": {},
   "outputs": [
    {
     "name": "stdout",
     "output_type": "stream",
     "text": [
      "1024\n"
     ]
    }
   ],
   "source": [
    "assert abs(few_rel_embs.mean()) <= 1e-10\n",
    "dimension = few_rel_embs.shape[1]\n",
    "print(dimension)"
   ]
  },
  {
   "cell_type": "code",
   "execution_count": 23,
   "metadata": {},
   "outputs": [],
   "source": [
    "pca = PCA()\n",
    "pca.fit(few_rel_embs)\n",
    "\n",
    "#remove the top N components from each vector\n",
    "for i in range(len(few_rel_embs)):\n",
    "    preprocess_sum = [0] * dimension\n",
    "    for j in range(2):\n",
    "        princip = np.array(pca.components_[j])\n",
    "        preprocess = princip.dot(few_rel_embs[i])\n",
    "        preprocess_vec = [princip[k] * preprocess for k in range(len(princip))]\n",
    "        preprocess_sum = [preprocess_sum[k] + preprocess_vec[k] for k in range(len(preprocess_sum))]\n",
    "    few_rel_embs[i] = np.array([few_rel_embs[i][j] - preprocess_sum[j] for j in range(len(preprocess_sum))])"
   ]
  },
  {
   "cell_type": "code",
   "execution_count": 25,
   "metadata": {},
   "outputs": [
    {
     "name": "stdout",
     "output_type": "stream",
     "text": [
      "[[ 0.12929082  0.18898746 -0.19969596 ...  0.02886066 -0.23365819\n",
      "  -0.00412334]\n",
      " [-0.37010029  0.18958247 -0.08657138 ... -0.15374777  0.05288432\n",
      "   0.13726444]\n",
      " [-0.18624892  0.56459495  0.25930635 ...  0.17178974 -0.14809304\n",
      "   0.13510923]\n",
      " ...\n",
      " [ 0.30730326  0.20381021 -0.26396625 ... -0.3169629   0.33519973\n",
      "   0.02226931]\n",
      " [ 0.03622832  0.26204958  0.88732923 ... -0.25194789 -0.44317495\n",
      "  -0.16646904]\n",
      " [-0.20107807  0.37238275  0.07296249 ...  0.21431556  0.41701434\n",
      "   0.17974977]]\n"
     ]
    }
   ],
   "source": [
    "print(few_rel_embs)\n",
    "np.savetxt('embs_few_rel_processed.txt', few_rel_embs)"
   ]
  }
 ],
 "metadata": {
  "interpreter": {
   "hash": "c476a049fcde5b81fb6a21b43e92761893545c8074c102fba35e987c688513e7"
  },
  "kernelspec": {
   "display_name": "",
   "language": "python",
   "name": "python3"
  },
  "language_info": {
   "codemirror_mode": {
    "name": "ipython",
    "version": 3
   },
   "file_extension": ".py",
   "mimetype": "text/x-python",
   "name": "python",
   "nbconvert_exporter": "python",
   "pygments_lexer": "ipython3",
   "version": "3.8.5"
  },
  "orig_nbformat": 4
 },
 "nbformat": 4,
 "nbformat_minor": 2
}
