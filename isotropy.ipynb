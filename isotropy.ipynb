{
 "cells": [
  {
   "cell_type": "code",
   "execution_count": 18,
   "metadata": {},
   "outputs": [],
   "source": [
    "import numpy as np\n",
    "from sklearn.decomposition import PCA"
   ]
  },
  {
   "cell_type": "code",
   "execution_count": 17,
   "metadata": {},
   "outputs": [
    {
     "name": "stdout",
     "output_type": "stream",
     "text": [
      "(1024,)\n",
      "219846.14882873194 0.0004459608888623213 2.0285135365720727e-09\n",
      "2.0285135365720727e-09\n"
     ]
    },
    {
     "name": "stderr",
     "output_type": "stream",
     "text": [
      "<ipython-input-17-8c1c39eb6b50>:3: ComplexWarning: Casting complex values to real discards the imaginary part\n",
      "  v = v.astype(float)\n"
     ]
    }
   ],
   "source": [
    "wiki_embs = np.loadtxt('./model/wiki_embs.txt').astype(float)\n",
    "w, v = np.linalg.eig(np.matmul(wiki_embs.T, wiki_embs).astype(float))\n",
    "isotropy = np.sum(np.exp(np.matmul(wiki_embs, v)), axis = 0)\n",
    "print(isotropy.shape)\n",
    "\n",
    "print(isotropy.max(), isotropy.min(), isotropy.min() / isotropy.max())\n",
    "print(float(isotropy.min() / isotropy.max()))"
   ]
  },
  {
   "cell_type": "code",
   "execution_count": 15,
   "metadata": {},
   "outputs": [
    {
     "name": "stdout",
     "output_type": "stream",
     "text": [
      "(1024,)\n",
      "4571.5361681236045 112.99999999999999 0.024718168213985946\n"
     ]
    },
    {
     "name": "stderr",
     "output_type": "stream",
     "text": [
      "<ipython-input-15-f598d630c1b6>:3: ComplexWarning: Casting complex values to real discards the imaginary part\n",
      "  v = v.astype(float)\n"
     ]
    }
   ],
   "source": [
    "wiki_embs = np.loadtxt('./model/embs_wiki_processed.txt').astype(float)\n",
    "w, v = np.linalg.eig(np.matmul(wiki_embs.T, wiki_embs))\n",
    "v = v.astype(float)\n",
    "isotropy = np.sum(np.exp(np.matmul(wiki_embs, v)), axis = 0)\n",
    "print(isotropy.shape)\n",
    "\n",
    "print(isotropy.max(), isotropy.min(), isotropy.min() / isotropy.max())\n",
    "# print(float(isotropy.min() / isotropy.max()))"
   ]
  },
  {
   "cell_type": "code",
   "execution_count": 6,
   "metadata": {},
   "outputs": [
    {
     "name": "stdout",
     "output_type": "stream",
     "text": [
      "(1024,)\n",
      "(57665.07874014229+0j) (0.00035417790001649423+0j) (6.141982422542692e-09+0j)\n",
      "6.141982422542692e-09\n"
     ]
    },
    {
     "name": "stderr",
     "output_type": "stream",
     "text": [
      "<ipython-input-6-a5b4fc1b2517>:9: ComplexWarning: Casting complex values to real discards the imaginary part\n",
      "  print(float(isotropy.min() / isotropy.max()))\n"
     ]
    }
   ],
   "source": [
    "few_rel_embs = np.loadtxt('./model/embs_few_rel.txt')\n",
    "\n",
    "w, v = np.linalg.eig(np.matmul(few_rel_embs.T, few_rel_embs))\n",
    "\n",
    "isotropy = np.sum(np.exp(np.matmul(few_rel_embs, v)), axis = 0)\n",
    "print(isotropy.shape)\n",
    "\n",
    "print(isotropy.max(), isotropy.min(), isotropy.min() / isotropy.max())\n",
    "print(float(isotropy.min() / isotropy.max()))"
   ]
  },
  {
   "cell_type": "code",
   "execution_count": 7,
   "metadata": {},
   "outputs": [
    {
     "name": "stdout",
     "output_type": "stream",
     "text": [
      "(1024,)\n",
      "(6108.092903803377+0j) (79.99999999999999-1.6865848995184471e-15j) (0.013097377734740366-2.7612299388377787e-19j)\n",
      "0.013097377734740366\n"
     ]
    },
    {
     "name": "stderr",
     "output_type": "stream",
     "text": [
      "<ipython-input-7-b33f98642320>:9: ComplexWarning: Casting complex values to real discards the imaginary part\n",
      "  print(float(isotropy.min() / isotropy.max()))\n"
     ]
    }
   ],
   "source": [
    "few_rel_embs = np.loadtxt('./model/embs_few_rel_processed.txt')\n",
    "\n",
    "w, v = np.linalg.eig(np.matmul(few_rel_embs.T, few_rel_embs))\n",
    "\n",
    "isotropy = np.sum(np.exp(np.matmul(few_rel_embs, v)), axis = 0)\n",
    "print(isotropy.shape)\n",
    "\n",
    "print(isotropy.max(), isotropy.min(), isotropy.min() / isotropy.max())\n",
    "print(float(isotropy.min() / isotropy.max()))"
   ]
  },
  {
   "cell_type": "code",
   "execution_count": 30,
   "metadata": {},
   "outputs": [
    {
     "name": "stderr",
     "output_type": "stream",
     "text": [
      "<ipython-input-30-91835826f4ef>:11: ComplexWarning: Casting complex values to real discards the imaginary part\n",
      "  pre = float(isotropy.min() / isotropy.max())\n",
      "<ipython-input-30-91835826f4ef>:39: ComplexWarning: Casting complex values to real discards the imaginary part\n",
      "  post = float(isotropy.min() / isotropy.max())\n",
      "<ipython-input-30-91835826f4ef>:11: ComplexWarning: Casting complex values to real discards the imaginary part\n",
      "  pre = float(isotropy.min() / isotropy.max())\n",
      "<ipython-input-30-91835826f4ef>:39: ComplexWarning: Casting complex values to real discards the imaginary part\n",
      "  post = float(isotropy.min() / isotropy.max())\n",
      "<ipython-input-30-91835826f4ef>:11: ComplexWarning: Casting complex values to real discards the imaginary part\n",
      "  pre = float(isotropy.min() / isotropy.max())\n",
      "<ipython-input-30-91835826f4ef>:39: ComplexWarning: Casting complex values to real discards the imaginary part\n",
      "  post = float(isotropy.min() / isotropy.max())\n",
      "<ipython-input-30-91835826f4ef>:11: ComplexWarning: Casting complex values to real discards the imaginary part\n",
      "  pre = float(isotropy.min() / isotropy.max())\n",
      "<ipython-input-30-91835826f4ef>:39: ComplexWarning: Casting complex values to real discards the imaginary part\n",
      "  post = float(isotropy.min() / isotropy.max())\n",
      "<ipython-input-30-91835826f4ef>:11: ComplexWarning: Casting complex values to real discards the imaginary part\n",
      "  pre = float(isotropy.min() / isotropy.max())\n",
      "<ipython-input-30-91835826f4ef>:39: ComplexWarning: Casting complex values to real discards the imaginary part\n",
      "  post = float(isotropy.min() / isotropy.max())\n",
      "<ipython-input-30-91835826f4ef>:11: ComplexWarning: Casting complex values to real discards the imaginary part\n",
      "  pre = float(isotropy.min() / isotropy.max())\n",
      "<ipython-input-30-91835826f4ef>:39: ComplexWarning: Casting complex values to real discards the imaginary part\n",
      "  post = float(isotropy.min() / isotropy.max())\n",
      "<ipython-input-30-91835826f4ef>:11: ComplexWarning: Casting complex values to real discards the imaginary part\n",
      "  pre = float(isotropy.min() / isotropy.max())\n",
      "<ipython-input-30-91835826f4ef>:39: ComplexWarning: Casting complex values to real discards the imaginary part\n",
      "  post = float(isotropy.min() / isotropy.max())\n",
      "<ipython-input-30-91835826f4ef>:11: ComplexWarning: Casting complex values to real discards the imaginary part\n",
      "  pre = float(isotropy.min() / isotropy.max())\n",
      "<ipython-input-30-91835826f4ef>:39: ComplexWarning: Casting complex values to real discards the imaginary part\n",
      "  post = float(isotropy.min() / isotropy.max())\n",
      "<ipython-input-30-91835826f4ef>:11: ComplexWarning: Casting complex values to real discards the imaginary part\n",
      "  pre = float(isotropy.min() / isotropy.max())\n",
      "<ipython-input-30-91835826f4ef>:39: ComplexWarning: Casting complex values to real discards the imaginary part\n",
      "  post = float(isotropy.min() / isotropy.max())\n",
      "<ipython-input-30-91835826f4ef>:11: ComplexWarning: Casting complex values to real discards the imaginary part\n",
      "  pre = float(isotropy.min() / isotropy.max())\n",
      "<ipython-input-30-91835826f4ef>:39: ComplexWarning: Casting complex values to real discards the imaginary part\n",
      "  post = float(isotropy.min() / isotropy.max())\n"
     ]
    }
   ],
   "source": [
    "few_rel_results = []\n",
    "for N in range(0, 10):\n",
    "  few_rel_embs = np.loadtxt('./model/embs_few_rel.txt')\n",
    "\n",
    "  w, v = np.linalg.eig(np.matmul(few_rel_embs.T, few_rel_embs))\n",
    "\n",
    "  isotropy = np.sum(np.exp(np.matmul(few_rel_embs, v)), axis = 0)\n",
    "  # print(isotropy.shape)\n",
    "\n",
    "  # print(isotropy.max(), isotropy.min(), isotropy.min() / isotropy.max())\n",
    "  pre = float(isotropy.min() / isotropy.max())\n",
    "\n",
    "  avg_emb = (few_rel_embs.mean(axis=0))\n",
    "  # print(avg_emb)\n",
    "  for i in range(len(few_rel_embs)):\n",
    "    few_rel_embs[i] -= avg_emb\n",
    "  assert abs(few_rel_embs.mean()) <= 1e-10\n",
    "  dimension = few_rel_embs.shape[1]\n",
    "  # print(dimension)\n",
    "  pca = PCA()\n",
    "  pca.fit(few_rel_embs)\n",
    "\n",
    "  #remove the top N components from each vector\n",
    "  for i in range(len(few_rel_embs)):\n",
    "      preprocess_sum = [0] * dimension\n",
    "      for j in range(N):\n",
    "          princip = np.array(pca.components_[j])\n",
    "          preprocess = princip.dot(few_rel_embs[i])\n",
    "          preprocess_vec = [princip[k] * preprocess for k in range(len(princip))]\n",
    "          preprocess_sum = [preprocess_sum[k] + preprocess_vec[k] for k in range(len(preprocess_sum))]\n",
    "      few_rel_embs[i] = np.array([few_rel_embs[i][j] - preprocess_sum[j] for j in range(len(preprocess_sum))])\n",
    "\n",
    "  w, v = np.linalg.eig(np.matmul(few_rel_embs.T, few_rel_embs))\n",
    "\n",
    "  isotropy = np.sum(np.exp(np.matmul(few_rel_embs, v)), axis = 0)\n",
    "  # print(isotropy.shape)\n",
    "\n",
    "  # print(isotropy.max(), isotropy.min(), isotropy.min() / isotropy.max())\n",
    "  post = float(isotropy.min() / isotropy.max())\n",
    "  few_rel_results.append((N, pre, post))"
   ]
  },
  {
   "cell_type": "code",
   "execution_count": 31,
   "metadata": {},
   "outputs": [
    {
     "name": "stdout",
     "output_type": "stream",
     "text": [
      "N: 0\n",
      "pre: 6.141982422542692e-09\n",
      "post: 0.0007523040144498767\n",
      "N: 1\n",
      "pre: 6.141982422542692e-09\n",
      "post: 0.0024329799015611136\n",
      "N: 2\n",
      "pre: 6.141982422542692e-09\n",
      "post: 0.013097377734740366\n",
      "N: 3\n",
      "pre: 6.141982422542692e-09\n",
      "post: 0.008428983987240445\n",
      "N: 4\n",
      "pre: 6.141982422542692e-09\n",
      "post: 0.01603058280844889\n",
      "N: 5\n",
      "pre: 6.141982422542692e-09\n",
      "post: 0.016030582808448837\n",
      "N: 6\n",
      "pre: 6.141982422542692e-09\n",
      "post: 0.050369070449289295\n",
      "N: 7\n",
      "pre: 6.141982422542692e-09\n",
      "post: 0.08183042909656503\n",
      "N: 8\n",
      "pre: 6.141982422542692e-09\n",
      "post: 0.06417209145536495\n",
      "N: 9\n",
      "pre: 6.141982422542692e-09\n",
      "post: 0.06417209145536414\n"
     ]
    }
   ],
   "source": [
    "for (a, b, c) in few_rel_results:\n",
    "  print(\"N:\", a)\n",
    "  print(\"pre:\", b)\n",
    "  print(\"post:\", c)"
   ]
  },
  {
   "cell_type": "code",
   "execution_count": 32,
   "metadata": {},
   "outputs": [
    {
     "name": "stderr",
     "output_type": "stream",
     "text": [
      "<ipython-input-32-cc5bc34379da>:11: ComplexWarning: Casting complex values to real discards the imaginary part\n",
      "  pre = float(isotropy.min() / isotropy.max())\n",
      "<ipython-input-32-cc5bc34379da>:39: ComplexWarning: Casting complex values to real discards the imaginary part\n",
      "  post = float(isotropy.min() / isotropy.max())\n",
      "<ipython-input-32-cc5bc34379da>:11: ComplexWarning: Casting complex values to real discards the imaginary part\n",
      "  pre = float(isotropy.min() / isotropy.max())\n",
      "<ipython-input-32-cc5bc34379da>:39: ComplexWarning: Casting complex values to real discards the imaginary part\n",
      "  post = float(isotropy.min() / isotropy.max())\n",
      "<ipython-input-32-cc5bc34379da>:11: ComplexWarning: Casting complex values to real discards the imaginary part\n",
      "  pre = float(isotropy.min() / isotropy.max())\n",
      "<ipython-input-32-cc5bc34379da>:39: ComplexWarning: Casting complex values to real discards the imaginary part\n",
      "  post = float(isotropy.min() / isotropy.max())\n",
      "<ipython-input-32-cc5bc34379da>:11: ComplexWarning: Casting complex values to real discards the imaginary part\n",
      "  pre = float(isotropy.min() / isotropy.max())\n",
      "<ipython-input-32-cc5bc34379da>:39: ComplexWarning: Casting complex values to real discards the imaginary part\n",
      "  post = float(isotropy.min() / isotropy.max())\n",
      "<ipython-input-32-cc5bc34379da>:11: ComplexWarning: Casting complex values to real discards the imaginary part\n",
      "  pre = float(isotropy.min() / isotropy.max())\n",
      "<ipython-input-32-cc5bc34379da>:39: ComplexWarning: Casting complex values to real discards the imaginary part\n",
      "  post = float(isotropy.min() / isotropy.max())\n",
      "<ipython-input-32-cc5bc34379da>:11: ComplexWarning: Casting complex values to real discards the imaginary part\n",
      "  pre = float(isotropy.min() / isotropy.max())\n",
      "<ipython-input-32-cc5bc34379da>:39: ComplexWarning: Casting complex values to real discards the imaginary part\n",
      "  post = float(isotropy.min() / isotropy.max())\n"
     ]
    }
   ],
   "source": [
    "wiki_results = []\n",
    "for N in range(0, 10):\n",
    "  few_rel_embs = np.loadtxt('./model/wiki_embs.txt')\n",
    "\n",
    "  w, v = np.linalg.eig(np.matmul(few_rel_embs.T, few_rel_embs))\n",
    "\n",
    "  isotropy = np.sum(np.exp(np.matmul(few_rel_embs, v)), axis = 0)\n",
    "  # print(isotropy.shape)\n",
    "\n",
    "  # print(isotropy.max(), isotropy.min(), isotropy.min() / isotropy.max())\n",
    "  pre = float(isotropy.min() / isotropy.max())\n",
    "\n",
    "  avg_emb = (few_rel_embs.mean(axis=0))\n",
    "  # print(avg_emb)\n",
    "  for i in range(len(few_rel_embs)):\n",
    "    few_rel_embs[i] -= avg_emb\n",
    "  assert abs(few_rel_embs.mean()) <= 1e-10\n",
    "  dimension = few_rel_embs.shape[1]\n",
    "  # print(dimension)\n",
    "  pca = PCA()\n",
    "  pca.fit(few_rel_embs)\n",
    "\n",
    "  #remove the top N components from each vector\n",
    "  for i in range(len(few_rel_embs)):\n",
    "      preprocess_sum = [0] * dimension\n",
    "      for j in range(N):\n",
    "          princip = np.array(pca.components_[j])\n",
    "          preprocess = princip.dot(few_rel_embs[i])\n",
    "          preprocess_vec = [princip[k] * preprocess for k in range(len(princip))]\n",
    "          preprocess_sum = [preprocess_sum[k] + preprocess_vec[k] for k in range(len(preprocess_sum))]\n",
    "      few_rel_embs[i] = np.array([few_rel_embs[i][j] - preprocess_sum[j] for j in range(len(preprocess_sum))])\n",
    "\n",
    "  w, v = np.linalg.eig(np.matmul(few_rel_embs.T, few_rel_embs))\n",
    "\n",
    "  isotropy = np.sum(np.exp(np.matmul(few_rel_embs, v)), axis = 0)\n",
    "  # print(isotropy.shape)\n",
    "\n",
    "  # print(isotropy.max(), isotropy.min(), isotropy.min() / isotropy.max())\n",
    "  post = float(isotropy.min() / isotropy.max())\n",
    "  wiki_results.append((N, pre, post))"
   ]
  },
  {
   "cell_type": "code",
   "execution_count": 33,
   "metadata": {},
   "outputs": [
    {
     "name": "stdout",
     "output_type": "stream",
     "text": [
      "N: 0\n",
      "pre: 2.0285135365720747e-09\n",
      "post: 0.00045041782851167587\n",
      "N: 1\n",
      "pre: 2.0285135365720747e-09\n",
      "post: 0.006868791025070998\n",
      "N: 2\n",
      "pre: 2.0285135365720747e-09\n",
      "post: 0.024718168213985953\n",
      "N: 3\n",
      "pre: 2.0285135365720747e-09\n",
      "post: 0.024718168213984468\n",
      "N: 4\n",
      "pre: 2.0285135365720747e-09\n",
      "post: 0.03228812914042501\n",
      "N: 5\n",
      "pre: 2.0285135365720747e-09\n",
      "post: 0.04824689291238142\n"
     ]
    }
   ],
   "source": [
    "for (a, b, c) in wiki_results:\n",
    "  print(\"N:\", a)\n",
    "  print(\"pre:\", b)\n",
    "  print(\"post:\", c)"
   ]
  }
 ],
 "metadata": {
  "interpreter": {
   "hash": "c476a049fcde5b81fb6a21b43e92761893545c8074c102fba35e987c688513e7"
  },
  "kernelspec": {
   "display_name": "",
   "language": "python",
   "name": "python3"
  },
  "language_info": {
   "codemirror_mode": {
    "name": "ipython",
    "version": 3
   },
   "file_extension": ".py",
   "mimetype": "text/x-python",
   "name": "python",
   "nbconvert_exporter": "python",
   "pygments_lexer": "ipython3",
   "version": "3.8.5"
  },
  "orig_nbformat": 4
 },
 "nbformat": 4,
 "nbformat_minor": 2
}
